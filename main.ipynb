{
 "cells": [
  {
   "cell_type": "code",
   "execution_count": 90,
   "id": "2b2bbecb",
   "metadata": {},
   "outputs": [],
   "source": [
    "import pandas as pd\n",
    "import pandas_datareader as web\n",
    "import numpy as np"
   ]
  },
  {
   "cell_type": "code",
   "execution_count": 2,
   "id": "e8eaa36d",
   "metadata": {},
   "outputs": [],
   "source": [
    "(initial_day, rf) = ('2021-11-11', 0)"
   ]
  },
  {
   "cell_type": "code",
   "execution_count": 113,
   "id": "7fea191c",
   "metadata": {},
   "outputs": [],
   "source": [
    "df = pd.read_excel('Stocks_List.xlsx')\n",
    "df = df.dropna(axis='index', how='all')\n",
    "df = df.dropna(axis='columns', how='all')\n",
    "df.columns=df.iloc[0]\n",
    "df.drop(index=1, inplace=True)\n",
    "df.reset_index(drop=True, inplace=True)"
   ]
  },
  {
   "cell_type": "code",
   "execution_count": 4,
   "id": "f2e6bcda",
   "metadata": {},
   "outputs": [],
   "source": [
    "stocks_list = df\n",
    "tickers = stocks_list.iloc[:,0].values"
   ]
  },
  {
   "cell_type": "code",
   "execution_count": 5,
   "id": "254169ff",
   "metadata": {},
   "outputs": [],
   "source": [
    "# fetching prices\n",
    "stocks_prices = pd.DataFrame()\n",
    "for ticker in tickers:\n",
    "    stocks_prices[ticker] = web.DataReader(ticker, 'yahoo', '2021-11-11')['Close']"
   ]
  },
  {
   "cell_type": "code",
   "execution_count": 6,
   "id": "cf014399",
   "metadata": {},
   "outputs": [],
   "source": [
    "bench_prices = pd.DataFrame()\n",
    "bench_prices['SPY'] = web.DataReader('SPY', 'yahoo', '2021-11-11')['Close']"
   ]
  },
  {
   "cell_type": "code",
   "execution_count": 127,
   "id": "3feb4aaf",
   "metadata": {},
   "outputs": [],
   "source": [
    "stocks_daily_returns = (stocks_prices.diff()/stocks_prices.shift(1))[1:] # remove the first NaN row\n",
    "bench_daily_returns = (bench_prices.diff()/bench_prices.shift(1))[1:]"
   ]
  },
  {
   "cell_type": "code",
   "execution_count": 83,
   "id": "5dbc1293",
   "metadata": {},
   "outputs": [],
   "source": [
    "last_prices = stocks_prices.tail(1).iloc[0].values # np array\n",
    "quants_prior = stocks_list.iloc[:,1].values\n",
    "weights_prior = last_prices*quants_prior/(last_prices*quants_prior).sum()"
   ]
  },
  {
   "cell_type": "code",
   "execution_count": 121,
   "id": "01ada7e8",
   "metadata": {},
   "outputs": [],
   "source": [
    "from pypfopt.efficient_frontier import EfficientFrontier\n",
    "from pypfopt.expected_returns import mean_historical_return\n",
    "from pypfopt.risk_models import CovarianceShrinkage\n",
    "import pypfopt.plotting as plotting\n",
    "import matplotlib.pyplot as plt"
   ]
  },
  {
   "cell_type": "code",
   "execution_count": 123,
   "id": "d94b3e24",
   "metadata": {
    "scrolled": true
   },
   "outputs": [
    {
     "name": "stdout",
     "output_type": "stream",
     "text": [
      "{'SPY': 0.0, 'AAPL': 1.0, 'MSFT': 0.0, 'TSLA': 0.0}\n"
     ]
    }
   ],
   "source": [
    "mu = mean_historical_return(stocks_prices)\n",
    "S = CovarianceShrinkage(stocks_prices).ledoit_wolf()\n",
    "\n",
    "# mean-variance opt\n",
    "ef = EfficientFrontier(mu, S)\n",
    "weights = ef.max_sharpe()\n",
    "\n",
    "clean_weights = ef.clean_weights()\n",
    "print(\"Estimated weights (max sharpe): \\n {0}\\n\".format(dict(clean_weights)))"
   ]
  },
  {
   "cell_type": "code",
   "execution_count": 116,
   "id": "395014f7",
   "metadata": {},
   "outputs": [],
   "source": [
    "weights_current = np.array(list(clean_weights.values()))\n",
    "quants_current = (weights_current * (last_prices*quants_prior).sum()/last_prices).round()\n",
    "diff_invest = (last_prices*(quants_current-quants_prior)).sum()"
   ]
  },
  {
   "cell_type": "code",
   "execution_count": 108,
   "id": "611a60c8",
   "metadata": {},
   "outputs": [],
   "source": [
    "buy_or_sell = quants_current - quants_prior\n",
    "buy_or_sell = pd.DataFrame({'Buy/Sell_qts': buy_or_sell, 'Amount': last_prices*buy_or_sell, 'Tickers': tickers})\n",
    "buy_or_sell.set_index(['Tickers'], inplace=True)\n",
    "print(buy_or_sell)"
   ]
  },
  {
   "cell_type": "code",
   "execution_count": 151,
   "id": "0dc1f69b",
   "metadata": {},
   "outputs": [
    {
     "data": {
      "image/png": "[encoded data removed]",
      "text/plain": [
       "<Figure size 432x288 with 1 Axes>"
      ]
     },
     "metadata": {
      "needs_background": "light"
     },
     "output_type": "display_data"
    }
   ],
   "source": [
    "ef = EfficientFrontier(mu, S)\n",
    "fig, ax = plt.subplots()\n",
    "plotting.plot_efficient_frontier(ef, ax=ax, show_assets=True)\n",
    "ax.set_title('Efficient frontier')\n",
    "plt.show()"
   ]
  },
  {
   "cell_type": "code",
   "execution_count": 147,
   "id": "eeb5ebe8",
   "metadata": {},
   "outputs": [],
   "source": [
    "portfolioReturn = stocks_daily_returns.mul(weights_prior).sum(axis='columns')\n",
    "Opt_portfolioReturn = stocks_daily_returns.mul(weights_current).sum(axis='columns')\n",
    "rets_df = pd.concat([portfolioReturn, Opt_portfolioReturn, bench_daily_returns], axis='columns')\n",
    "rets_df.columns=['Currenty','Optimized','SPY']"
   ]
  }
 ],
 "metadata": {
  "kernelspec": {
   "display_name": "Python 3 (ipykernel)",
   "language": "python",
   "name": "python3"
  },
  "language_info": {
   "codemirror_mode": {
    "name": "ipython",
    "version": 3
   },
   "file_extension": ".py",
   "mimetype": "text/x-python",
   "name": "python",
   "nbconvert_exporter": "python",
   "pygments_lexer": "ipython3",
   "version": "3.9.7"
  }
 },
 "nbformat": 4,
 "nbformat_minor": 5
}
